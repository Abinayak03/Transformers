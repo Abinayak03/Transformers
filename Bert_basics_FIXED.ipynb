{
  "cells": [
    {
      "cell_type": "markdown",
      "metadata": {
        "id": "view-in-github",
        "colab_type": "text"
      },
      "source": [
        "<a href=\"https://colab.research.google.com/github/Abinayak03/Transformers/blob/main/Bert_basics_FIXED.ipynb\" target=\"_parent\"><img src=\"https://colab.research.google.com/assets/colab-badge.svg\" alt=\"Open In Colab\"/></a>"
      ]
    },
    {
      "cell_type": "code",
      "execution_count": null,
      "metadata": {
        "colab": {
          "base_uri": "https://localhost:8080/"
        },
        "id": "x6LEmA6rezeN",
        "outputId": "4d30de4c-1082-4208-9fce-79d031a1362c"
      },
      "outputs": [
        {
          "name": "stdout",
          "output_type": "stream",
          "text": [
            "Requirement already satisfied: transformers in /usr/local/lib/python3.11/dist-packages (4.53.1)\n",
            "Requirement already satisfied: filelock in /usr/local/lib/python3.11/dist-packages (from transformers) (3.18.0)\n",
            "Requirement already satisfied: huggingface-hub<1.0,>=0.30.0 in /usr/local/lib/python3.11/dist-packages (from transformers) (0.33.2)\n",
            "Requirement already satisfied: numpy>=1.17 in /usr/local/lib/python3.11/dist-packages (from transformers) (2.0.2)\n",
            "Requirement already satisfied: packaging>=20.0 in /usr/local/lib/python3.11/dist-packages (from transformers) (24.2)\n",
            "Requirement already satisfied: pyyaml>=5.1 in /usr/local/lib/python3.11/dist-packages (from transformers) (6.0.2)\n",
            "Requirement already satisfied: regex!=2019.12.17 in /usr/local/lib/python3.11/dist-packages (from transformers) (2024.11.6)\n",
            "Requirement already satisfied: requests in /usr/local/lib/python3.11/dist-packages (from transformers) (2.32.3)\n",
            "Requirement already satisfied: tokenizers<0.22,>=0.21 in /usr/local/lib/python3.11/dist-packages (from transformers) (0.21.2)\n",
            "Requirement already satisfied: safetensors>=0.4.3 in /usr/local/lib/python3.11/dist-packages (from transformers) (0.5.3)\n",
            "Requirement already satisfied: tqdm>=4.27 in /usr/local/lib/python3.11/dist-packages (from transformers) (4.67.1)\n",
            "Requirement already satisfied: fsspec>=2023.5.0 in /usr/local/lib/python3.11/dist-packages (from huggingface-hub<1.0,>=0.30.0->transformers) (2025.3.2)\n",
            "Requirement already satisfied: typing-extensions>=3.7.4.3 in /usr/local/lib/python3.11/dist-packages (from huggingface-hub<1.0,>=0.30.0->transformers) (4.14.1)\n",
            "Requirement already satisfied: hf-xet<2.0.0,>=1.1.2 in /usr/local/lib/python3.11/dist-packages (from huggingface-hub<1.0,>=0.30.0->transformers) (1.1.5)\n",
            "Requirement already satisfied: charset-normalizer<4,>=2 in /usr/local/lib/python3.11/dist-packages (from requests->transformers) (3.4.2)\n",
            "Requirement already satisfied: idna<4,>=2.5 in /usr/local/lib/python3.11/dist-packages (from requests->transformers) (3.10)\n",
            "Requirement already satisfied: urllib3<3,>=1.21.1 in /usr/local/lib/python3.11/dist-packages (from requests->transformers) (2.4.0)\n",
            "Requirement already satisfied: certifi>=2017.4.17 in /usr/local/lib/python3.11/dist-packages (from requests->transformers) (2025.7.9)\n"
          ]
        }
      ],
      "source": [
        "pip install transformers"
      ]
    },
    {
      "cell_type": "code",
      "execution_count": null,
      "metadata": {
        "id": "CTft6PgUe23t"
      },
      "outputs": [],
      "source": [
        "from transformers import BertModel,BertTokenizer"
      ]
    },
    {
      "cell_type": "code",
      "execution_count": null,
      "metadata": {
        "colab": {
          "base_uri": "https://localhost:8080/",
          "height": 269,
          "referenced_widgets": [
            "b07678392ae741c4bb85deaada78d42a",
            "f652900a5db8467cb5fb1574ca0d6256",
            "7d5bd5a87fe84fe7a617cb04b40e2db2",
            "0cceef1a19044148960833078d91e75d",
            "08550781bf4f4167b0e717ad07b18738",
            "751ef5e1ec654132bb18902a3058561b",
            "c98b1972642a401e95a6a48d24457110",
            "9e2fe7c68b624fb8822e84fc1b93e905",
            "48961c20f59c4c50ac2552d2b7d2ee08",
            "59b072706d3242bf9901185707a75e1a",
            "d410406b2216423b992a74d6b1f6a956",
            "18eeec77039b4982bb2534761be791fd",
            "06a715b4860340b7a7548d68229e0514",
            "f9cc55209ca04fafb13bd590711d2e29",
            "3bff4c40c49e4533ac7f225cae849891",
            "a7d9ee33edd04aada9ab299f54d7d20f",
            "6d903d3972364d0c94807995df5cd824",
            "3de687dc0ecd46faac81570c86157a9b",
            "d596dc95c17c42deba449d65a9ee8d3f",
            "8f0623c14a994ea8b01aef5fb1d4c436",
            "18bd2c7235b04fa2b2890794ded6f526",
            "2af561e7874f466f870c7548df317aa5",
            "cc6efcb52d9f42ad826701294421582e",
            "87f1d870e0f0463f8a385a4707a6e825",
            "73fc627a77f64825aa705e958a788dac",
            "b0f0c23e992c4cf1969d16f03a50983f",
            "3a2935ab3f5c4a1b99c7d67522f1b241",
            "1d9af03dacfe42a486a9c65337f2dad4",
            "6526036cc26c4b039e2f82dbd77179dc",
            "7216fd7ab9d7431c93ed1f3d72b301f3",
            "40d739e014934031a9d41c36cc206415",
            "540780cdc1eb47adabfc41eb33d8be84",
            "aa11fff0c37b403eac519358715f2c53",
            "cde09e3d4d5148ebb541601dffb052f2",
            "eb964d7e2ea04eebb3ac8d90ff837f27",
            "2a3041a4541b48869335edeb079d1f4d",
            "4c39a76a2a6e405b9f8a091ae699763b",
            "91bfad08a804487b8f7c768e5f30c1f1",
            "f78cde3721d94944bbea44b94128e923",
            "ca8e3ca9e17c433c8e7058fe189b59fa",
            "694c0085f6804d26acc7eb529740574f",
            "1c0212daf8684876818bd23cc74ae00f",
            "b79636317b034ee18e004db3ee7d21dc",
            "1e6885f71615426f8f7aaa077f52bb3e"
          ]
        },
        "id": "JOX9ufN3fFAa",
        "outputId": "b43e2721-29b1-4981-ef30-39dc22117195"
      },
      "outputs": [
        {
          "name": "stderr",
          "output_type": "stream",
          "text": [
            "/usr/local/lib/python3.11/dist-packages/huggingface_hub/utils/_auth.py:94: UserWarning: \n",
            "The secret `HF_TOKEN` does not exist in your Colab secrets.\n",
            "To authenticate with the Hugging Face Hub, create a token in your settings tab (https://huggingface.co/settings/tokens), set it as secret in your Google Colab and restart your session.\n",
            "You will be able to reuse this secret in all of your notebooks.\n",
            "Please note that authentication is recommended but still optional to access public models or datasets.\n",
            "  warnings.warn(\n"
          ]
        },
        {
          "data": {
            "application/vnd.jupyter.widget-view+json": {
              "model_id": "b07678392ae741c4bb85deaada78d42a",
              "version_major": 2,
              "version_minor": 0
            },
            "text/plain": [
              "tokenizer_config.json:   0%|          | 0.00/48.0 [00:00<?, ?B/s]"
            ]
          },
          "metadata": {},
          "output_type": "display_data"
        },
        {
          "data": {
            "application/vnd.jupyter.widget-view+json": {
              "model_id": "18eeec77039b4982bb2534761be791fd",
              "version_major": 2,
              "version_minor": 0
            },
            "text/plain": [
              "vocab.txt:   0%|          | 0.00/232k [00:00<?, ?B/s]"
            ]
          },
          "metadata": {},
          "output_type": "display_data"
        },
        {
          "data": {
            "application/vnd.jupyter.widget-view+json": {
              "model_id": "cc6efcb52d9f42ad826701294421582e",
              "version_major": 2,
              "version_minor": 0
            },
            "text/plain": [
              "tokenizer.json:   0%|          | 0.00/466k [00:00<?, ?B/s]"
            ]
          },
          "metadata": {},
          "output_type": "display_data"
        },
        {
          "data": {
            "application/vnd.jupyter.widget-view+json": {
              "model_id": "cde09e3d4d5148ebb541601dffb052f2",
              "version_major": 2,
              "version_minor": 0
            },
            "text/plain": [
              "config.json:   0%|          | 0.00/570 [00:00<?, ?B/s]"
            ]
          },
          "metadata": {},
          "output_type": "display_data"
        }
      ],
      "source": [
        "tokenizer = BertTokenizer.from_pretrained('bert-base-uncased')"
      ]
    },
    {
      "cell_type": "code",
      "execution_count": null,
      "metadata": {
        "colab": {
          "base_uri": "https://localhost:8080/"
        },
        "id": "8spCS0INfsMB",
        "outputId": "0c218392-d878-4bfd-8b5c-04d359f8274c"
      },
      "outputs": [
        {
          "data": {
            "text/plain": [
              "{'input_ids': tensor([[  101,  1045,  2293,  2026,  2155,   102,     0,     0],\n",
              "        [  101,  2026, 17792,  2003,  4169,  1998,  3752,   102]]), 'token_type_ids': tensor([[0, 0, 0, 0, 0, 0, 0, 0],\n",
              "        [0, 0, 0, 0, 0, 0, 0, 0]]), 'attention_mask': tensor([[1, 1, 1, 1, 1, 1, 0, 0],\n",
              "        [1, 1, 1, 1, 1, 1, 1, 1]])}"
            ]
          },
          "execution_count": 8,
          "metadata": {},
          "output_type": "execute_result"
        }
      ],
      "source": [
        "tokens = tokenizer(['I love my family','My hobby is painting and reading'], padding = True, return_tensors='pt')\n",
        "tokens #throws error if padding is not given as the length of the statements varyy\n",
        "#by seeing the output u can understand this\n",
        "#if not padding = True , we can use '''padding='max_length',max_length=10'''(number is variable)\n",
        "#if max_length is not the enough length then u can use '''truncation=True''' along with that"
      ]
    },
    {
      "cell_type": "code",
      "execution_count": null,
      "metadata": {
        "colab": {
          "base_uri": "https://localhost:8080/"
        },
        "id": "dIrLWMdnfYTX",
        "outputId": "c31ff0cd-e3cc-4fcf-9892-28e25ed63d5c"
      },
      "outputs": [
        {
          "data": {
            "text/plain": [
              "{'input_ids': tensor([[ 101, 1045, 2293, 2026, 2155,  102]]), 'token_type_ids': tensor([[0, 0, 0, 0, 0, 0]]), 'attention_mask': tensor([[1, 1, 1, 1, 1, 1]])}"
            ]
          },
          "execution_count": 9,
          "metadata": {},
          "output_type": "execute_result"
        }
      ],
      "source": [
        "tokens = tokenizer('I love my family', return_tensors='pt')\n",
        "tokens # 101 is class[CLS] and 102 is separator [SEP]"
      ]
    },
    {
      "cell_type": "code",
      "execution_count": null,
      "metadata": {
        "colab": {
          "base_uri": "https://localhost:8080/"
        },
        "id": "GXHWu0JRi_iH",
        "outputId": "093efd17-2847-42cc-f3d6-1c738e318b26"
      },
      "outputs": [
        {
          "data": {
            "text/plain": [
              "tensor([[ 101, 1045, 2293, 2026, 2155,  102]])"
            ]
          },
          "execution_count": 16,
          "metadata": {},
          "output_type": "execute_result"
        }
      ],
      "source": [
        "tokens['input_ids']#2d array"
      ]
    },
    {
      "cell_type": "code",
      "execution_count": null,
      "metadata": {
        "colab": {
          "base_uri": "https://localhost:8080/"
        },
        "id": "53AdQ8QNjCk1",
        "outputId": "09617dd3-21ca-45a2-914b-88a1bf9fe208"
      },
      "outputs": [
        {
          "data": {
            "text/plain": [
              "['[CLS]', 'i', 'love', 'my', 'family', '[SEP]']"
            ]
          },
          "execution_count": 18,
          "metadata": {},
          "output_type": "execute_result"
        }
      ],
      "source": [
        "tokenizer.convert_ids_to_tokens(tokens['input_ids'][0])"
      ]
    },
    {
      "cell_type": "code",
      "execution_count": null,
      "metadata": {
        "id": "GbOWssZ6hKI_"
      },
      "outputs": [],
      "source": [
        "model = BertModel.from_pretrained('bert-base-uncased')\n",
        "output = model(**tokens)#this code is to get contectual embeddings for each tokens"
      ]
    },
    {
      "cell_type": "code",
      "execution_count": null,
      "metadata": {
        "colab": {
          "base_uri": "https://localhost:8080/"
        },
        "id": "ySJDKb7thKL9",
        "outputId": "bd196ce3-4986-49da-fc66-6595548d3d54"
      },
      "outputs": [
        {
          "data": {
            "text/plain": [
              "tensor([[[ 1.2914e-01,  5.4995e-01, -2.0346e-01,  ..., -2.2151e-01,\n",
              "           3.3475e-01,  2.2563e-01],\n",
              "         [ 5.0246e-01,  5.4501e-01, -3.5577e-01,  ..., -3.0356e-02,\n",
              "           7.1414e-01,  3.3148e-01],\n",
              "         [ 1.1874e+00,  1.1059e+00,  6.6936e-01,  ..., -5.5845e-01,\n",
              "           6.7572e-01, -7.4668e-04],\n",
              "         [ 8.0782e-01,  2.4960e-01,  3.5183e-01,  ..., -1.3538e-02,\n",
              "           1.1206e-03,  3.1707e-01],\n",
              "         [ 3.4171e-01,  2.6536e-01, -3.9405e-01,  ..., -1.6923e-01,\n",
              "           6.9081e-01,  4.4429e-01],\n",
              "         [ 8.0791e-01,  1.8786e-01, -1.9778e-01,  ...,  6.3901e-02,\n",
              "          -5.2803e-01, -3.6456e-01]]], grad_fn=<NativeLayerNormBackward0>)"
            ]
          },
          "execution_count": 12,
          "metadata": {},
          "output_type": "execute_result"
        }
      ],
      "source": [
        "output['last_hidden_state']"
      ]
    },
    {
      "cell_type": "code",
      "execution_count": null,
      "metadata": {
        "colab": {
          "base_uri": "https://localhost:8080/"
        },
        "id": "JjuCtVTfhKOs",
        "outputId": "1c7c37fa-02fc-4220-cba7-9fd76375e124"
      },
      "outputs": [
        {
          "data": {
            "text/plain": [
              "torch.Size([1, 6, 768])"
            ]
          },
          "execution_count": 13,
          "metadata": {},
          "output_type": "execute_result"
        }
      ],
      "source": [
        "output['last_hidden_state'].shape"
      ]
    },
    {
      "cell_type": "code",
      "execution_count": null,
      "metadata": {
        "colab": {
          "base_uri": "https://localhost:8080/"
        },
        "id": "I-Ir8FhaiGeI",
        "outputId": "e973a37f-31be-4d6a-8162-21e2d9fb47d1"
      },
      "outputs": [
        {
          "data": {
            "text/plain": [
              "torch.Size([1, 768])"
            ]
          },
          "execution_count": 15,
          "metadata": {},
          "output_type": "execute_result"
        }
      ],
      "source": [
        "output['pooler_output'].shape #cls and this pooler output represents the overall embedding(or captures meaning of sentence)"
      ]
    },
    {
      "cell_type": "code",
      "execution_count": null,
      "metadata": {
        "id": "NIObUVLiitIs"
      },
      "outputs": [],
      "source": []
    }
  ],
  "metadata": {
    "colab": {
      "provenance": [],
      "include_colab_link": true
    },
    "kernelspec": {
      "display_name": "Python 3",
      "name": "python3"
    },
    "language_info": {
      "name": "python"
    }
  },
  "nbformat": 4,
  "nbformat_minor": 0
}